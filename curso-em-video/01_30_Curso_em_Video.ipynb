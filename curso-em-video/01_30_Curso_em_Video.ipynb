{
  "nbformat": 4,
  "nbformat_minor": 0,
  "metadata": {
    "colab": {
      "name": "01-30_Curso_em_Video.ipynb",
      "provenance": []
    },
    "kernelspec": {
      "name": "python3",
      "display_name": "Python 3"
    },
    "language_info": {
      "name": "python"
    }
  },
  "cells": [
    {
      "cell_type": "markdown",
      "metadata": {
        "id": "xByjVFVWJkcP"
      },
      "source": [
        "## **Exercícios de Python**"
      ]
    },
    {
      "cell_type": "markdown",
      "metadata": {
        "id": "pD1U0zSRJqWQ"
      },
      "source": [
        "115 exercícios para quem está aprendendo Python, do iniciante ao intermediário. "
      ]
    },
    {
      "cell_type": "markdown",
      "metadata": {
        "id": "9L0j9ifXDALx"
      },
      "source": [
        "Por Gustavo Guanabara, do canal [Curso em Vídeo](https://www.youtube.com/c/CursoemV%C3%ADdeo) no YouTube."
      ]
    },
    {
      "cell_type": "markdown",
      "metadata": {
        "id": "ohumLyXH0rkk"
      },
      "source": [
        "*Resolução por Jessica Silva.*"
      ]
    },
    {
      "cell_type": "markdown",
      "metadata": {
        "id": "tpLRgXRABc43"
      },
      "source": [
        "### **Do exercício 001 ao exercício 030:** "
      ]
    },
    {
      "cell_type": "markdown",
      "metadata": {
        "id": "D26pMomrKCEv"
      },
      "source": [
        "001: imprimir mensagens."
      ]
    },
    {
      "cell_type": "code",
      "metadata": {
        "colab": {
          "base_uri": "https://localhost:8080/"
        },
        "id": "vwYw-mp_Jbhy",
        "outputId": "dcd4ee42-fc94-462c-e9d3-f9190f537d4d"
      },
      "source": [
        "print('Oi mundo!')"
      ],
      "execution_count": null,
      "outputs": [
        {
          "output_type": "stream",
          "text": [
            "Oi mundo!\n"
          ],
          "name": "stdout"
        }
      ]
    },
    {
      "cell_type": "code",
      "metadata": {
        "colab": {
          "base_uri": "https://localhost:8080/"
        },
        "id": "MQMZ5emMNHbQ",
        "outputId": "4b9f7f27-1cd3-4e14-a065-b94411ee3de5"
      },
      "source": [
        "msg = 'Oi mundo!'\n",
        "print(msg)"
      ],
      "execution_count": null,
      "outputs": [
        {
          "output_type": "stream",
          "text": [
            "Oi mundo!\n"
          ],
          "name": "stdout"
        }
      ]
    },
    {
      "cell_type": "markdown",
      "metadata": {
        "id": "fajUbicSKNiV"
      },
      "source": [
        "002: respondendo ao usuário."
      ]
    },
    {
      "cell_type": "code",
      "metadata": {
        "colab": {
          "base_uri": "https://localhost:8080/"
        },
        "id": "lSDI_y7XKNDl",
        "outputId": "b7a63422-36dd-4aa6-f97c-7f29919e5740"
      },
      "source": [
        "nome = input('Digite seu nome: ')\n",
        "print(f'É um prazer te conhecer, {nome}!')"
      ],
      "execution_count": null,
      "outputs": [
        {
          "output_type": "stream",
          "text": [
            "Digite seu nome: Jessica\n",
            "É um prazer te conhecer, Jessica!\n"
          ],
          "name": "stdout"
        }
      ]
    },
    {
      "cell_type": "code",
      "metadata": {
        "colab": {
          "base_uri": "https://localhost:8080/"
        },
        "id": "j4ThCHHENVl3",
        "outputId": "34ae3ef9-3222-42f1-d491-e034bc1f7144"
      },
      "source": [
        "nome = input('Digite seu nome: ')\n",
        "print('É um prazer te conhecer, {}!'.format(nome))"
      ],
      "execution_count": null,
      "outputs": [
        {
          "output_type": "stream",
          "text": [
            "Digite seu nome: Jessica\n",
            "É um prazer te conhecer, Jessica!\n"
          ],
          "name": "stdout"
        }
      ]
    },
    {
      "cell_type": "markdown",
      "metadata": {
        "id": "qcIt53ALNoT7"
      },
      "source": [
        "003: somando dois números."
      ]
    },
    {
      "cell_type": "code",
      "metadata": {
        "colab": {
          "base_uri": "https://localhost:8080/"
        },
        "id": "1InR_sYCNbJy",
        "outputId": "b95b7c35-87a2-40e2-e315-df281f106870"
      },
      "source": [
        "n1 = int(input('Digite um valor: '))\n",
        "n2 = int(input('Digite outro valor: '))\n",
        "\n",
        "soma = n1 + n2\n",
        "print(f'A soma entre {n1} e {n2} é igual a: {soma}') "
      ],
      "execution_count": null,
      "outputs": [
        {
          "output_type": "stream",
          "text": [
            "Digite um valor: 44\n",
            "Digite outro valor: 32\n",
            "A soma entre 44 e 32 é igual a: 76\n"
          ],
          "name": "stdout"
        }
      ]
    },
    {
      "cell_type": "code",
      "metadata": {
        "colab": {
          "base_uri": "https://localhost:8080/"
        },
        "id": "hH6xwd9pOIK3",
        "outputId": "4dc0c205-6c6c-4235-eed1-6108a212e2da"
      },
      "source": [
        "n1 = int(input('Digite um valor: '))\n",
        "n2 = int(input('Digite outro valor: '))\n",
        "\n",
        "soma = n1 + n2\n",
        "print('A soma entre {} e {} é igual a: {}'.format(n1, n2, soma)) "
      ],
      "execution_count": null,
      "outputs": [
        {
          "output_type": "stream",
          "text": [
            "Digite um valor: 44\n",
            "Digite outro valor: 32\n",
            "A soma entre 44 e 32 é igual a: 76\n"
          ],
          "name": "stdout"
        }
      ]
    },
    {
      "cell_type": "markdown",
      "metadata": {
        "id": "nR1y6E8pOue-"
      },
      "source": [
        "004: dissecando uma variável."
      ]
    },
    {
      "cell_type": "code",
      "metadata": {
        "colab": {
          "base_uri": "https://localhost:8080/"
        },
        "id": "J1FUw4lVOsdI",
        "outputId": "1a4c70de-e11c-4dd9-95a5-1c34f447669a"
      },
      "source": [
        "x = input('Digite alguma coisa: ')\n",
        "\n",
        "print('O tipo desse valor é', type(x))\n",
        "print('Só tem espaços?', x.isspace())\n",
        "print('É um número?', x.isnumeric())\n",
        "print('É alfabético?', x.isalpha())\n",
        "print('É alfanumérico?', x.isalnum())\n",
        "print('Está em maiúsculo?', x.isupper())\n",
        "print('Está em minúsculo?', x.islower())\n",
        "print('Está capitalizada?', x.istitle())"
      ],
      "execution_count": null,
      "outputs": [
        {
          "output_type": "stream",
          "text": [
            "Digite alguma coisa: 739\n",
            "O tipo desse valor é <class 'str'>\n",
            "Só tem espaços? False\n",
            "É um número? True\n",
            "É alfabético? False\n",
            "É alfanumérico? True\n",
            "Está em maiúsculo? False\n",
            "Está em minúsculo? False\n",
            "Está capitalizada? False\n"
          ],
          "name": "stdout"
        }
      ]
    },
    {
      "cell_type": "code",
      "metadata": {
        "colab": {
          "base_uri": "https://localhost:8080/"
        },
        "id": "ePAMYPGUPxGs",
        "outputId": "720688cb-1bb6-48da-d268-3334c5be9be5"
      },
      "source": [
        "x = input('Digite alguma coisa: ')\n",
        "\n",
        "print('O tipo desse valor é', type(x))\n",
        "print('Só tem espaços?', x.isspace())\n",
        "print('É um número?', x.isnumeric())\n",
        "print('É alfabético?', x.isalpha())\n",
        "print('É alfanumérico?', x.isalnum())\n",
        "print('Está em maiúsculo?', x.isupper())\n",
        "print('Está em minúsculo?', x.islower())\n",
        "print('Está capitalizada?', x.istitle())"
      ],
      "execution_count": null,
      "outputs": [
        {
          "output_type": "stream",
          "text": [
            "Digite alguma coisa: Itália\n",
            "O tipo desse valor é <class 'str'>\n",
            "Só tem espaços? False\n",
            "É um número? False\n",
            "É alfabético? True\n",
            "É alfanumérico? True\n",
            "Está em maiúsculo? False\n",
            "Está em minúsculo? False\n",
            "Está capitalizada? True\n"
          ],
          "name": "stdout"
        }
      ]
    },
    {
      "cell_type": "markdown",
      "metadata": {
        "id": "YFdg_ZGqQvnO"
      },
      "source": [
        "005: antecessor e sucessor."
      ]
    },
    {
      "cell_type": "code",
      "metadata": {
        "colab": {
          "base_uri": "https://localhost:8080/"
        },
        "id": "9WAlC-Y2Qtf3",
        "outputId": "830e8988-b38d-4c58-bcdf-d4cb8a2ab538"
      },
      "source": [
        "numero = int(input('Digite um número: '))\n",
        "antecessor = numero - 1\n",
        "sucessor = numero + 1\n",
        "\n",
        "print('O antecessor do número {} é {} e o sucessor é {}.'.format(numero, antecessor, sucessor))"
      ],
      "execution_count": null,
      "outputs": [
        {
          "output_type": "stream",
          "text": [
            "Digite um número: 8\n",
            "O antecessor do número 8 é 7 e o sucessor é 9.\n"
          ],
          "name": "stdout"
        }
      ]
    },
    {
      "cell_type": "code",
      "metadata": {
        "colab": {
          "base_uri": "https://localhost:8080/"
        },
        "id": "04uMlqMpRnuI",
        "outputId": "ee4ed31d-7ebc-4674-8147-87851eaa692f"
      },
      "source": [
        "numero = int(input('Digite um número: '))\n",
        "\n",
        "print('O antecessor do número {} é {} e o sucessor é {}.'.format(numero, numero -1 , numero + 1))"
      ],
      "execution_count": null,
      "outputs": [
        {
          "output_type": "stream",
          "text": [
            "Digite um número: 8\n",
            "O antecessor do número 8 é 7 e o sucessor é 9.\n"
          ],
          "name": "stdout"
        }
      ]
    },
    {
      "cell_type": "markdown",
      "metadata": {
        "id": "G7g41mZsRLdS"
      },
      "source": [
        "006: dobro, triplo e raíz quadrada."
      ]
    },
    {
      "cell_type": "code",
      "metadata": {
        "colab": {
          "base_uri": "https://localhost:8080/"
        },
        "id": "FJkwoQ-GRH6G",
        "outputId": "483f0110-3c44-4898-b80d-8a3f980bf93e"
      },
      "source": [
        "num = int(input('Digite um número: '))\n",
        "\n",
        "dobro = num * 2\n",
        "triplo = num * 3\n",
        "raiz_quadrada = num ** (1/2)\n",
        "\n",
        "print(f'O dobro de {num} é igual a {dobro}.')\n",
        "print(f'O triplo de {num} é igual a {triplo}.')\n",
        "print(f'A raíz quadrada de {num} é igual a {raiz_quadrada}.')"
      ],
      "execution_count": null,
      "outputs": [
        {
          "output_type": "stream",
          "text": [
            "Digite um número: 16\n",
            "O dobro de 16 é igual a 32.\n",
            "O triplo de 16 é igual a 48.\n",
            "A raíz quadrada de 16 é igual a 4.0.\n"
          ],
          "name": "stdout"
        }
      ]
    },
    {
      "cell_type": "code",
      "metadata": {
        "colab": {
          "base_uri": "https://localhost:8080/"
        },
        "id": "BEHEfExtTSzq",
        "outputId": "b8128366-3562-46d6-d8b6-1da40d5202c0"
      },
      "source": [
        "num = int(input('Digite um número: '))\n",
        "\n",
        "print('O dobro de {} é igual a {}.'.format(num, num * 2))\n",
        "print('O triplo de {} é igual a {}.'.format(num, num * 3))\n",
        "print('A raíz quadrada de {} é igual a {}.'.format(num, num ** (1/2)))"
      ],
      "execution_count": null,
      "outputs": [
        {
          "output_type": "stream",
          "text": [
            "Digite um número: 16\n",
            "O dobro de 16 é igual a 32.\n",
            "O triplo de 16 é igual a 48.\n",
            "A raíz quadrada de 16 é igual a 4.0.\n"
          ],
          "name": "stdout"
        }
      ]
    },
    {
      "cell_type": "markdown",
      "metadata": {
        "id": "CvWNJDvzUMz7"
      },
      "source": [
        "007: média aritmética."
      ]
    },
    {
      "cell_type": "code",
      "metadata": {
        "colab": {
          "base_uri": "https://localhost:8080/"
        },
        "id": "4EUTjg5zSaa2",
        "outputId": "2d345e5e-a8bd-4189-fe9b-b4997d8d52bb"
      },
      "source": [
        "nota1 = float(input('A primeira nota foi: '))\n",
        "nota2 = float(input('A segunda nota foi: '))\n",
        "media = (nota1 + nota2)/2\n",
        "\n",
        "print(f'A média entre {nota1} e {nota2} é igual a {media}.')"
      ],
      "execution_count": null,
      "outputs": [
        {
          "output_type": "stream",
          "text": [
            "A primeira nota foi: 5.5\n",
            "A segunda nota foi: 8.5\n",
            "A média entre 5.5 e 8.5 é igual a 7.0.\n"
          ],
          "name": "stdout"
        }
      ]
    },
    {
      "cell_type": "code",
      "metadata": {
        "colab": {
          "base_uri": "https://localhost:8080/"
        },
        "id": "O8eg20KZXooD",
        "outputId": "3118aece-3578-466f-90f1-6c0f59da1644"
      },
      "source": [
        "nota1 = float(input('A primeira nota foi: '))\n",
        "nota2 = float(input('A segunda nota foi: '))\n",
        "\n",
        "print(f'A média entre {nota1} e {nota2} é igual a {(nota1 + nota2)/2}.')"
      ],
      "execution_count": null,
      "outputs": [
        {
          "output_type": "stream",
          "text": [
            "A primeira nota foi: 5.5\n",
            "A segunda nota foi: 8.5\n",
            "A média entre 5.5 e 8.5 é igual a 7.0.\n"
          ],
          "name": "stdout"
        }
      ]
    },
    {
      "cell_type": "code",
      "metadata": {
        "colab": {
          "base_uri": "https://localhost:8080/"
        },
        "id": "8p5yO5ETYJ3I",
        "outputId": "81f351cf-1a33-4b0b-ef6f-92e9d03bb310"
      },
      "source": [
        "nota1 = float(input('A primeira nota foi: '))\n",
        "nota2 = float(input('A segunda nota foi: '))\n",
        "media = (nota1 + nota2)/2\n",
        "\n",
        "print('A média entre {:.1f} e {:.1f} é igual a {:.1f}.'.format(nota1, nota2, media))\n",
        "#apenas 1 ponto flutuante após a virgula"
      ],
      "execution_count": null,
      "outputs": [
        {
          "output_type": "stream",
          "text": [
            "A primeira nota foi: 5.5\n",
            "A segunda nota foi: 2\n",
            "A média entre 5.5 e 2.0 é igual a 3.8.\n"
          ],
          "name": "stdout"
        }
      ]
    },
    {
      "cell_type": "markdown",
      "metadata": {
        "id": "P2nNSswqX7PP"
      },
      "source": [
        "008: conversor de medidas."
      ]
    },
    {
      "cell_type": "code",
      "metadata": {
        "colab": {
          "base_uri": "https://localhost:8080/"
        },
        "id": "1hEAzpPHX4po",
        "outputId": "748545fc-7b89-433a-d8d2-bcc465c488e5"
      },
      "source": [
        "#km hm dam m dm cm mm\n",
        "\n",
        "medida = float(input('Digite uma distância em metros: '))\n",
        "dm = medida * 10\n",
        "cm = medida * 100\n",
        "mm = medida * 1000\n",
        "dam = medida / 10\n",
        "hm = medida / 100\n",
        "km = medida / 1000\n",
        "\n",
        "print(f'A medida de {medida} metros corresponde a {km} quilômetros e {cm} centímetros.')"
      ],
      "execution_count": null,
      "outputs": [
        {
          "output_type": "stream",
          "text": [
            "Digite uma distância em metros: 4700\n",
            "A medida de 4700.0 metros corresponde a 4.7 quilômetros e 470000.0 centímetros.\n"
          ],
          "name": "stdout"
        }
      ]
    },
    {
      "cell_type": "code",
      "metadata": {
        "colab": {
          "base_uri": "https://localhost:8080/"
        },
        "id": "PtH_bffTaSPp",
        "outputId": "d4dcff3b-db2d-4f45-b0a9-16f9fab4313a"
      },
      "source": [
        "medida = float(input('Digite uma distância em metros: '))\n",
        "dm = medida * 10\n",
        "cm = medida * 100\n",
        "mm = medida * 1000\n",
        "dam = medida / 10\n",
        "hm = medida / 100\n",
        "km = medida / 1000\n",
        "\n",
        "print('A media de {} metros coresponde a {} quilômetros e {:.0f} centímetros'.format(medida, km, cm))"
      ],
      "execution_count": null,
      "outputs": [
        {
          "output_type": "stream",
          "text": [
            "Digite uma distância em metros: 566\n",
            "A media de 566.0 metros coresponde a 0.566 quilômetros e 56600 centímetros\n"
          ],
          "name": "stdout"
        }
      ]
    },
    {
      "cell_type": "markdown",
      "metadata": {
        "id": "ByPeDOO2bux4"
      },
      "source": [
        "009: tabuada."
      ]
    },
    {
      "cell_type": "code",
      "metadata": {
        "colab": {
          "base_uri": "https://localhost:8080/"
        },
        "id": "At_D2a3Ebljk",
        "outputId": "c2183350-f8eb-45c2-fb15-7aff77638aef"
      },
      "source": [
        "numero = int(input('Digite um número para ver a sua tabuada: '))\n",
        "\n",
        "print('{} x {} = {}'.format(numero, 0, numero*0))\n",
        "print('{} x {} = {}'.format(numero, 1, numero*1))\n",
        "print('{} x {} = {}'.format(numero, 2, numero*2))\n",
        "print('{} x {} = {}'.format(numero, 3, numero*3))\n",
        "print('{} x {} = {}'.format(numero, 4, numero*4))\n",
        "print('{} x {} = {}'.format(numero, 5, numero*5))\n",
        "print('{} x {} = {}'.format(numero, 6, numero*6))\n",
        "print('{} x {} = {}'.format(numero, 7, numero*7))\n",
        "print('{} x {} = {}'.format(numero, 8, numero*8))\n",
        "print('{} x {} = {}'.format(numero, 9, numero*9))\n",
        "print('{} x {} = {}'.format(numero, 10, numero*10))"
      ],
      "execution_count": null,
      "outputs": [
        {
          "output_type": "stream",
          "text": [
            "Digite um número para ver a sua tabuada: 9\n",
            "9 x 0 = 0\n",
            "9 x 1 = 9\n",
            "9 x 2 = 18\n",
            "9 x 3 = 27\n",
            "9 x 4 = 36\n",
            "9 x 5 = 45\n",
            "9 x 6 = 54\n",
            "9 x 7 = 63\n",
            "9 x 8 = 72\n",
            "9 x 9 = 81\n",
            "9 x 10 = 90\n"
          ],
          "name": "stdout"
        }
      ]
    },
    {
      "cell_type": "markdown",
      "metadata": {
        "id": "F8fYfNN4dH8k"
      },
      "source": [
        "010: conversor de moedas."
      ]
    },
    {
      "cell_type": "code",
      "metadata": {
        "colab": {
          "base_uri": "https://localhost:8080/"
        },
        "id": "iikvhrivcUW9",
        "outputId": "848e93a7-c634-4f0a-80a1-db427ef15b0c"
      },
      "source": [
        "#considerando 1 dolar a 5,3 reais\n",
        "\n",
        "real = float(input('Quanto de dinheiro você tem? R$'))\n",
        "dolar = real/5.30\n",
        "\n",
        "print('Com {:.2f} reais, você pode comprar {:.2f} dolares.'.format(real, dolar))"
      ],
      "execution_count": null,
      "outputs": [
        {
          "output_type": "stream",
          "text": [
            "Quanto de dinheiro você tem? R$25\n",
            "Com 25.00 reais, você pode comprar 4.72 dolares.\n"
          ],
          "name": "stdout"
        }
      ]
    },
    {
      "cell_type": "code",
      "metadata": {
        "colab": {
          "base_uri": "https://localhost:8080/"
        },
        "id": "P8XndhkHeTaI",
        "outputId": "d623a883-225b-4e86-83ef-129b8e369702"
      },
      "source": [
        "#considerando 1 euro a 6,45 reais\n",
        "\n",
        "real = float(input('Quanto de dinheiro você tem? R$'))\n",
        "euro = real/6.45\n",
        "\n",
        "print('Com {:.2f} reais, você pode comprar {:.2f} euros.'.format(real, euro))"
      ],
      "execution_count": null,
      "outputs": [
        {
          "output_type": "stream",
          "text": [
            "Quanto de dinheiro você tem? R$25\n",
            "Com 25.00 reais, você pode comprar 3.88 euros.\n"
          ],
          "name": "stdout"
        }
      ]
    },
    {
      "cell_type": "code",
      "metadata": {
        "colab": {
          "base_uri": "https://localhost:8080/"
        },
        "id": "UNnKfEaYeYGX",
        "outputId": "4b7caf22-f9ab-4e65-cfeb-f9b5be91a5c9"
      },
      "source": [
        "#considerando 1 libra a 7,50\n",
        "\n",
        "real = float(input('Quanto de dinheiro você tem? R$'))\n",
        "libras = real/7.50\n",
        "\n",
        "print('Com {:.2f} reais, você pode comprar {:.2f} libras.'.format(real, libras))"
      ],
      "execution_count": null,
      "outputs": [
        {
          "output_type": "stream",
          "text": [
            "Quanto de dinheiro você tem? R$25\n",
            "Com 25.00 reais, você pode comprar 3.33 libras.\n"
          ],
          "name": "stdout"
        }
      ]
    },
    {
      "cell_type": "markdown",
      "metadata": {
        "id": "XE3ZWzUDd9OH"
      },
      "source": [
        "011: pintando parede."
      ]
    },
    {
      "cell_type": "code",
      "metadata": {
        "colab": {
          "base_uri": "https://localhost:8080/"
        },
        "id": "-sRNQjQkdnfC",
        "outputId": "41ed15ef-da52-4d50-9b12-95225bd70e74"
      },
      "source": [
        "largura = float(input('Digite a largura da parede (em metros): '))\n",
        "altura = float(input('Digite a altura da parede (em metros): '))\n",
        "\n",
        "print('A sua parede tem dimensão {} x {} e a sua área é de {} m².'.format(largura, altura, largura*altura))\n",
        "print('Para pintar essa parede, você vai precisar de {} litros de tinta.'.format((largura*altura)/2))"
      ],
      "execution_count": null,
      "outputs": [
        {
          "output_type": "stream",
          "text": [
            "Digite a largura da parede (em metros): 4.5\n",
            "Digite a altura da parede (em metros): 6\n",
            "A sua parede tem dimensão 4.5 x 6.0 e a sua área é de 27.0 m².\n",
            "Para pintar essa parede, você vai precisar de 13.5 litros de tinta.\n"
          ],
          "name": "stdout"
        }
      ]
    },
    {
      "cell_type": "code",
      "metadata": {
        "colab": {
          "base_uri": "https://localhost:8080/"
        },
        "id": "OpjtFlFp1X69",
        "outputId": "cd5111a4-2bc4-4058-905b-b8d3548b78fe"
      },
      "source": [
        "larg = float(input('Digite a largura da parede (em metros): '))\n",
        "alt = float(input('Digite a altura da parede (em metros): '))\n",
        "area = larg*alt\n",
        "tinta = area/2\n",
        "\n",
        "print(f'A sua parede tem dimensão {larg}x{alt} e a sua área é de {area}m².')\n",
        "print(f'Para pintar essa parede, você vai precisar de {tinta} litros de tinta.')"
      ],
      "execution_count": null,
      "outputs": [
        {
          "output_type": "stream",
          "text": [
            "Digite a largura da parede (em metros): 4.5\n",
            "Digite a altura da parede (em metros): 6\n",
            "A sua parede tem dimensão 4.5x6.0 e a sua área é de 27.0m².\n",
            "Para pintar essa parede, você vai precisar de 13.5 litros de tinta.\n"
          ],
          "name": "stdout"
        }
      ]
    },
    {
      "cell_type": "markdown",
      "metadata": {
        "id": "nWQb617X2Cl7"
      },
      "source": [
        "012: calculando descontos."
      ]
    },
    {
      "cell_type": "code",
      "metadata": {
        "colab": {
          "base_uri": "https://localhost:8080/"
        },
        "id": "d8BdeqGY1283",
        "outputId": "d2748b33-24c6-4e2b-cfeb-f20d1f824727"
      },
      "source": [
        "valor = float(input('Digite o preço do produto: R$'))\n",
        "desconto = valor - (valor*(5/100))\n",
        "\n",
        "print('Você ganhou 5% de desconto e vai pagar R${:.2f} pelo produto.'.format(desconto))"
      ],
      "execution_count": null,
      "outputs": [
        {
          "output_type": "stream",
          "text": [
            "Digite o preço do produto: R$100\n",
            "Você ganhou 5% de desconto e vai pagar R$95.00 pelo produto.\n"
          ],
          "name": "stdout"
        }
      ]
    },
    {
      "cell_type": "markdown",
      "metadata": {
        "id": "80wojXL825Ur"
      },
      "source": [
        "013: reajuste salarial."
      ]
    },
    {
      "cell_type": "code",
      "metadata": {
        "colab": {
          "base_uri": "https://localhost:8080/"
        },
        "id": "H3vyRqX_2ikI",
        "outputId": "4487c1f9-96cd-4420-efb5-e2ffb490bea4"
      },
      "source": [
        "salario = float(input('Digite o seu salario: '))\n",
        "reajuste = float(input('Digite a % do reajuste salarial: '))\n",
        "\n",
        "novo_salario = salario + (salario*(reajuste/100))\n",
        "\n",
        "print('Com o reajuste de {:.2f}$, o seu novo salário passa a ser de R${:.2f}.'.format(salario, novo_salario))"
      ],
      "execution_count": null,
      "outputs": [
        {
          "output_type": "stream",
          "text": [
            "Digite o seu salario: 1000\n",
            "Digite a % do reajuste salarial: 15\n",
            "Com o reajuste de 1000.00$, o seu novo salário passa a ser de R$1150.00.\n"
          ],
          "name": "stdout"
        }
      ]
    },
    {
      "cell_type": "markdown",
      "metadata": {
        "id": "r1TEmt5j4Zkq"
      },
      "source": [
        "014: conversor de temperaturas."
      ]
    },
    {
      "cell_type": "code",
      "metadata": {
        "colab": {
          "base_uri": "https://localhost:8080/"
        },
        "id": "kLT6owPJ3_TQ",
        "outputId": "820d96b4-0fb7-4276-e220-a0ac1dd42ec6"
      },
      "source": [
        "celcius = float(input('Qual a temperatura em graus °C? '))\n",
        "fahrenheit = (9*celcius)/(5) + 32\n",
        "\n",
        "print(f'A temperatura de {celcius}°C corresponde a {fahrenheit}°F.')"
      ],
      "execution_count": null,
      "outputs": [
        {
          "output_type": "stream",
          "text": [
            "Qual a temperatura em graus °C? 40\n",
            "A temperatura de 40.0°C corresponde a 104.0°F.\n"
          ],
          "name": "stdout"
        }
      ]
    },
    {
      "cell_type": "markdown",
      "metadata": {
        "id": "lLgEpWgi5eRK"
      },
      "source": [
        "015: aluguel de carros."
      ]
    },
    {
      "cell_type": "code",
      "metadata": {
        "colab": {
          "base_uri": "https://localhost:8080/"
        },
        "id": "RG5fNsc45Sxx",
        "outputId": "025c602c-fd5a-4757-de4a-d4b8cc325ef5"
      },
      "source": [
        "dias = int(input('Quantos dias alugados? '))\n",
        "km = float(input('Quantos km foram percorridos? '))\n",
        "\n",
        "valor = (60*dias) + (0.15*km)\n",
        "\n",
        "print('O valor a ser pago é de R${:.2f}.'.format(valor))"
      ],
      "execution_count": null,
      "outputs": [
        {
          "output_type": "stream",
          "text": [
            "Quantos dias alugados? 5\n",
            "Quantos km foram percorridos? 2400\n",
            "O valor a ser pago é de R$660.00.\n"
          ],
          "name": "stdout"
        }
      ]
    },
    {
      "cell_type": "markdown",
      "metadata": {
        "id": "KRXZKC1-62Ib"
      },
      "source": [
        "016: quebrando um número."
      ]
    },
    {
      "cell_type": "code",
      "metadata": {
        "colab": {
          "base_uri": "https://localhost:8080/"
        },
        "id": "6oi8Q61f6X7H",
        "outputId": "bd2a4f6a-8071-4829-bf8e-47b0090c2ce9"
      },
      "source": [
        "numero = float(input('Digite um valor: '))\n",
        "\n",
        "print('O valor digitado foi {} e a sua porção inteira é {:.0f}.'.format(numero, numero))"
      ],
      "execution_count": null,
      "outputs": [
        {
          "output_type": "stream",
          "text": [
            "Digite um valor: 1.2345\n",
            "O valor digitado foi 1.2345 e a sua porção inteira é 1.\n"
          ],
          "name": "stdout"
        }
      ]
    },
    {
      "cell_type": "code",
      "metadata": {
        "colab": {
          "base_uri": "https://localhost:8080/"
        },
        "id": "ucaho_Ew8K5m",
        "outputId": "b6c380ed-3f18-4b42-b42c-8797e5fee7d9"
      },
      "source": [
        "import math\n",
        "\n",
        "numero = float(input('Digite um valor: '))\n",
        "\n",
        "print('O valor digitado foi {} e a sua porção inteira é {:.0f}.'.format(numero, math.trunc(numero)))"
      ],
      "execution_count": null,
      "outputs": [
        {
          "output_type": "stream",
          "text": [
            "Digite um valor: 1.2345\n",
            "O valor digitado foi 1.2345 e a sua porção inteira é 1.\n"
          ],
          "name": "stdout"
        }
      ]
    },
    {
      "cell_type": "markdown",
      "metadata": {
        "id": "ljZpUUto8U6w"
      },
      "source": [
        "017: catetos e hipotenusa."
      ]
    },
    {
      "cell_type": "code",
      "metadata": {
        "colab": {
          "base_uri": "https://localhost:8080/"
        },
        "id": "o2rzfmFO8PNb",
        "outputId": "0c57eaa0-166f-46f4-918f-43a0a21bbd3b"
      },
      "source": [
        "cateto_oposto = float(input('Digite o comprimento do cateto oposto: '))\n",
        "cateto_adjacente = float(input('Digite o comprimento do cateto adjacente: '))\n",
        "\n",
        "hipotenusa = (cateto_oposto ** 2 + cateto_adjacente ** 2) ** (1/2)\n",
        "\n",
        "print('A hipotenusa mede {:.2f}.'.format(hipotenusa))"
      ],
      "execution_count": null,
      "outputs": [
        {
          "output_type": "stream",
          "text": [
            "Digite o comprimento do cateto oposto: 2\n",
            "Digite o comprimento do cateto adjacente: 2.5\n",
            "A hipotenusa mede 3.20.\n"
          ],
          "name": "stdout"
        }
      ]
    },
    {
      "cell_type": "code",
      "metadata": {
        "colab": {
          "base_uri": "https://localhost:8080/"
        },
        "id": "2PakTnuI9RWL",
        "outputId": "b0d596f4-fda8-4a02-8852-289b0d9fac6a"
      },
      "source": [
        "import math\n",
        "\n",
        "cateto_oposto = float(input('Digite o comprimento do cateto oposto: '))\n",
        "cateto_adjacente = float(input('Digite o comprimento do cateto adjacente: '))\n",
        "\n",
        "hipotenusa = math.hypot(cateto_oposto, cateto_adjacente)\n",
        "\n",
        "print('A hipotenusa mede {:.2f}.'.format(hipotenusa))"
      ],
      "execution_count": null,
      "outputs": [
        {
          "output_type": "stream",
          "text": [
            "Digite o comprimento do cateto oposto: 2\n",
            "Digite o comprimento do cateto adjacente: 2.5\n",
            "A hipotenusa mede 3.20.\n"
          ],
          "name": "stdout"
        }
      ]
    },
    {
      "cell_type": "code",
      "metadata": {
        "colab": {
          "base_uri": "https://localhost:8080/"
        },
        "id": "A-h0Dqa9-C51",
        "outputId": "48dab414-74ae-48e0-af5a-32281befe0c1"
      },
      "source": [
        "from math import hypot\n",
        "\n",
        "cateto_oposto = float(input('Digite o comprimento do cateto oposto: '))\n",
        "cateto_adjacente = float(input('Digite o comprimento do cateto adjacente: '))\n",
        "\n",
        "hipotenusa = hypot(cateto_oposto, cateto_adjacente)\n",
        "\n",
        "print('A hipotenusa mede {:.2f}.'.format(hipotenusa))"
      ],
      "execution_count": null,
      "outputs": [
        {
          "output_type": "stream",
          "text": [
            "Digite o comprimento do cateto oposto: 2\n",
            "Digite o comprimento do cateto adjacente: 2.5\n",
            "A hipotenusa mede 3.20.\n"
          ],
          "name": "stdout"
        }
      ]
    },
    {
      "cell_type": "markdown",
      "metadata": {
        "id": "gqtuujva983f"
      },
      "source": [
        "018: seno, cosseno e tangente."
      ]
    },
    {
      "cell_type": "markdown",
      "metadata": {
        "id": "3aEycTB6_Ptp"
      },
      "source": [
        "*documentação: [math - Python](https://docs.python.org/3/library/math.html)*"
      ]
    },
    {
      "cell_type": "code",
      "metadata": {
        "colab": {
          "base_uri": "https://localhost:8080/"
        },
        "id": "oozxes0E91VF",
        "outputId": "df1aff92-71c2-4426-c4b9-1ca153eddeb0"
      },
      "source": [
        "import math\n",
        "\n",
        "angulo = float(input('Digite o ângulo: '))\n",
        "\n",
        "seno = math.sin(math.radians(angulo))\n",
        "print('O ângulo de {} tem o seno de {:.2f}.'.format(angulo, seno))\n",
        "\n",
        "cosseno = math.cos(math.radians(angulo))\n",
        "print('O ângulo de {} tem o cosseno de {:.2f}.'.format(angulo, cosseno))\n",
        "\n",
        "tangente = math.tan(math.radians(angulo))\n",
        "print('O ângulo de {} tem a tangente de {:.2f}.'.format(angulo, tangente))"
      ],
      "execution_count": null,
      "outputs": [
        {
          "output_type": "stream",
          "text": [
            "Digite o ângulo: 30\n",
            "O ângulo de 30.0 tem o seno de 0.50.\n",
            "O ângulo de 30.0 tem o cosseno de 0.87.\n",
            "O ângulo de 30.0 tem a tangente de 0.58.\n"
          ],
          "name": "stdout"
        }
      ]
    },
    {
      "cell_type": "code",
      "metadata": {
        "colab": {
          "base_uri": "https://localhost:8080/"
        },
        "id": "-0LOCmIE-4-u",
        "outputId": "50f15e3d-fdf6-40ca-ec30-5f8182515308"
      },
      "source": [
        "from math import radians, sin, cos, tan\n",
        "\n",
        "angulo = float(input('Digite o ângulo: '))\n",
        "\n",
        "seno = sin(radians(angulo))\n",
        "print('O ângulo de {} tem o seno de {:.2f}.'.format(angulo, seno))\n",
        "\n",
        "cosseno = cos(radians(angulo))\n",
        "print('O ângulo de {} tem o cosseno de {:.2f}.'.format(angulo, cosseno))\n",
        "\n",
        "tangente = tan(radians(angulo))\n",
        "print('O ângulo de {} tem a tangente de {:.2f}.'.format(angulo, tangente))"
      ],
      "execution_count": null,
      "outputs": [
        {
          "output_type": "stream",
          "text": [
            "Digite o ângulo: 30\n",
            "O ângulo de 30.0 tem o seno de 0.50.\n",
            "O ângulo de 30.0 tem o cosseno de 0.87.\n",
            "O ângulo de 30.0 tem a tangente de 0.58.\n"
          ],
          "name": "stdout"
        }
      ]
    },
    {
      "cell_type": "markdown",
      "metadata": {
        "id": "3BpW95hKARag"
      },
      "source": [
        "019: sorteando um item na lista."
      ]
    },
    {
      "cell_type": "code",
      "metadata": {
        "colab": {
          "base_uri": "https://localhost:8080/"
        },
        "id": "PMzLRO9VAOhT",
        "outputId": "3412b0ab-a29c-459d-bb25-c829a8a9b862"
      },
      "source": [
        "import random\n",
        "\n",
        "nome1 = str(input('Aluno 1: '))\n",
        "nome2 = str(input('Aluno 2: '))\n",
        "nome3 = str(input('Aluno 3: '))\n",
        "nome4 = str(input('Aluno 4: '))\n",
        "\n",
        "lista_de_alunos = [nome1, nome2, nome3, nome4]\n",
        "\n",
        "escolhido = random.choice(lista_de_alunos)\n",
        "\n",
        "print(f'O aluno escolhido foi {escolhido}.')"
      ],
      "execution_count": null,
      "outputs": [
        {
          "output_type": "stream",
          "text": [
            "Aluno 1: Maria\n",
            "Aluno 2: José\n",
            "Aluno 3: Ana\n",
            "Aluno 4: Guilherme\n",
            "O aluno escolhido foi Ana.\n"
          ],
          "name": "stdout"
        }
      ]
    },
    {
      "cell_type": "markdown",
      "metadata": {
        "id": "k5iB89USBG02"
      },
      "source": [
        "020: sorteando uma ordem na lista."
      ]
    },
    {
      "cell_type": "code",
      "metadata": {
        "colab": {
          "base_uri": "https://localhost:8080/"
        },
        "id": "30TEQLsABBTr",
        "outputId": "8d2aaa40-5287-4592-9926-f51c9cea08fd"
      },
      "source": [
        "import random\n",
        "\n",
        "nome1 = str(input('Aluno 1: '))\n",
        "nome2 = str(input('Aluno 2: '))\n",
        "nome3 = str(input('Aluno 3: '))\n",
        "nome4 = str(input('Aluno 4: '))\n",
        "\n",
        "lista_de_alunos = [nome1, nome2, nome3, nome4]\n",
        "\n",
        "random.shuffle(lista_de_alunos)\n",
        "\n",
        "print(f'A ordem de apresentação será: ', lista_de_alunos)"
      ],
      "execution_count": null,
      "outputs": [
        {
          "output_type": "stream",
          "text": [
            "Aluno 1: Maria\n",
            "Aluno 2: José\n",
            "Aluno 3: Ana\n",
            "Aluno 4: Guilherme\n",
            "A ordem de apresentação será:  ['Guilherme', 'Ana', 'Maria', 'José']\n"
          ],
          "name": "stdout"
        }
      ]
    },
    {
      "cell_type": "markdown",
      "metadata": {
        "id": "IyPDkMenCcXY"
      },
      "source": [
        "~021: tocando um mp3.~"
      ]
    },
    {
      "cell_type": "markdown",
      "metadata": {
        "id": "VH5P2iGgEOi0"
      },
      "source": [
        "022: analisador de textos."
      ]
    },
    {
      "cell_type": "code",
      "metadata": {
        "colab": {
          "base_uri": "https://localhost:8080/"
        },
        "id": "JzQ5xolzEHXF",
        "outputId": "40fe19a0-43f5-47d1-ced9-a2eb28d13c05"
      },
      "source": [
        "nome = str(input('Digite o seu nome completo: '))\n",
        "\n",
        "print('Analisando o seu nome...')\n",
        "\n",
        "print('Seu nome em maiúsculo é {}.'.format(nome.upper()))\n",
        "print('Seu nome em minúsculo é {}.'.format(nome.lower()))\n",
        "print('Seu nome tem um total de {} letras.'.format(len(nome) - nome.count(' ')))\n",
        "separado = nome.split()\n",
        "print('Seu primeiro nome é {} e ele tem {} letras.'.format(separado[0], len(separado[0])))"
      ],
      "execution_count": null,
      "outputs": [
        {
          "output_type": "stream",
          "text": [
            "Digite o seu nome completo: Luiz Inácio Lula da Silva\n",
            "Analisando o seu nome...\n",
            "Seu nome em maiúsculo é LUIZ INÁCIO LULA DA SILVA.\n",
            "Seu nome em minúsculo é luiz inácio lula da silva.\n",
            "Seu nome tem um total de 21 letras.\n",
            "Seu primeiro nome é Luiz e ele tem 4 letras.\n"
          ],
          "name": "stdout"
        }
      ]
    },
    {
      "cell_type": "markdown",
      "metadata": {
        "id": "AUEui2_9GsKx"
      },
      "source": [
        "023: separando dígitos de um numero."
      ]
    },
    {
      "cell_type": "code",
      "metadata": {
        "colab": {
          "base_uri": "https://localhost:8080/"
        },
        "id": "jkESOUTxEymJ",
        "outputId": "85bacd17-ff9d-4ba5-d905-b52b54e825cd"
      },
      "source": [
        "num = int(input('Digite um número: '))\n",
        "unidade = num // 1 % 10\n",
        "dezena = num // 10 % 10\n",
        "centena = num // 100 % 10\n",
        "milhar = num // 1000 % 10\n",
        "\n",
        "print(f'Analisando o número {num}...')\n",
        "print(f'Unidade: {unidade}')\n",
        "print(f'Dezena: {dezena}')\n",
        "print(f'Centena: {centena}')\n",
        "print(f'Milhar: {milhar}')"
      ],
      "execution_count": null,
      "outputs": [
        {
          "output_type": "stream",
          "text": [
            "Digite um número: 256\n",
            "Analisando o número 256...\n",
            "Unidade: 6\n",
            "Dezena: 5\n",
            "Centena: 2\n",
            "Milhar: 0\n"
          ],
          "name": "stdout"
        }
      ]
    },
    {
      "cell_type": "markdown",
      "metadata": {
        "id": "AEcLoRnYLRH_"
      },
      "source": [
        "024: verificando as primeiras letras de um texto."
      ]
    },
    {
      "cell_type": "code",
      "metadata": {
        "colab": {
          "base_uri": "https://localhost:8080/"
        },
        "id": "VuxMvxxJLPc1",
        "outputId": "200da9aa-1e78-4988-a237-b88ed4722b7c"
      },
      "source": [
        "#a cidade começa com a palavra 'Santo'?\n",
        "\n",
        "cidade = str(input('Em qual cidade você nasceu? ')).strip().upper()\n",
        "\n",
        "print(cidade[:5] == 'SANTO')"
      ],
      "execution_count": null,
      "outputs": [
        {
          "output_type": "stream",
          "text": [
            "Em qual cidade você nasceu? Salvador\n",
            "False\n"
          ],
          "name": "stdout"
        }
      ]
    },
    {
      "cell_type": "markdown",
      "metadata": {
        "id": "nDWPxpG8Mndi"
      },
      "source": [
        "025: procurando uma string dentro da outra."
      ]
    },
    {
      "cell_type": "code",
      "metadata": {
        "colab": {
          "base_uri": "https://localhost:8080/"
        },
        "id": "Y-NieIgZMYds",
        "outputId": "7db0d79c-671b-44fe-c715-25e2625a0618"
      },
      "source": [
        "nome = str(input('Qual seu nome completo? ')).strip().upper()\n",
        "\n",
        "print('Tem \"Silva\" no seu nome?\\n{}.'.format('SILVA' in nome))"
      ],
      "execution_count": null,
      "outputs": [
        {
          "output_type": "stream",
          "text": [
            "Qual seu nome completo? Luiz Inácio Lula da Silva\n",
            "Tem \"Silva\" no seu nome?\n",
            "True.\n"
          ],
          "name": "stdout"
        }
      ]
    },
    {
      "cell_type": "markdown",
      "metadata": {
        "id": "puBvVkqdPAqE"
      },
      "source": [
        "026: a primeira e última ocorrência de uma string."
      ]
    },
    {
      "cell_type": "code",
      "metadata": {
        "colab": {
          "base_uri": "https://localhost:8080/"
        },
        "id": "TP8GtYnLNfJX",
        "outputId": "af6f0e70-c037-42db-bc51-f0b706f29ac1"
      },
      "source": [
        "frase = str(input('Digite uma frase qualquer: ')).strip().upper()\n",
        "\n",
        "print('A letra A aparece {} vezes na frase.'.format(frase.count('A')))\n",
        "print('A primeira letra A aparece na posição {}.'.format(frase.find('A')+1))\n",
        "print('A última letra A aparece na posição {}.'.format(frase.rfind('A')+1))"
      ],
      "execution_count": null,
      "outputs": [
        {
          "output_type": "stream",
          "text": [
            "Digite uma frase qualquer: Ararinha azul\n",
            "A letra A aparece 4 vezes na frase.\n",
            "A primeira letra A aparece na posição 1.\n",
            "A última letra A aparece na posição 10.\n"
          ],
          "name": "stdout"
        }
      ]
    },
    {
      "cell_type": "markdown",
      "metadata": {
        "id": "yK_gu1GeROSP"
      },
      "source": [
        "027: primeiro e último nome da pessoa."
      ]
    },
    {
      "cell_type": "code",
      "metadata": {
        "colab": {
          "base_uri": "https://localhost:8080/"
        },
        "id": "PoZo3uPaPogx",
        "outputId": "cdca2496-e5eb-4465-f4b0-e9b26bf9ed6f"
      },
      "source": [
        "nome = str(input('Qual seu nome completo? ')).strip().upper()\n",
        "\n",
        "separado = nome.split()\n",
        "\n",
        "print(separado)\n",
        "\n",
        "print('O primeiro nome é: {}.'.format(separado[0]))\n",
        "print('O último nome é: {}.'.format(separado[len(separado)-1]))"
      ],
      "execution_count": null,
      "outputs": [
        {
          "output_type": "stream",
          "text": [
            "Qual seu nome completo? Luiz Inácio Lula da Silva\n",
            "['LUIZ', 'INÁCIO', 'LULA', 'DA', 'SILVA']\n",
            "O primeiro nome é: LUIZ.\n",
            "O último nome é: SILVA.\n"
          ],
          "name": "stdout"
        }
      ]
    },
    {
      "cell_type": "markdown",
      "metadata": {
        "id": "xsxY9ur8RRAz"
      },
      "source": [
        "028: jogo da adivinhação (v. 1)"
      ]
    },
    {
      "cell_type": "code",
      "metadata": {
        "colab": {
          "base_uri": "https://localhost:8080/"
        },
        "id": "rAcGEcxNRSKo",
        "outputId": "596d2750-2880-4ce1-ad28-ce5f361af936"
      },
      "source": [
        "from random import randint\n",
        "\n",
        "print('Vou pensar em um número entre 0 e 5...')\n",
        "print('Tente adivinhar qual é o número...')\n",
        "\n",
        "computador = randint(0, 5)\n",
        "\n",
        "jogador = int(input('Qual o número você acha que eu pensei? '))\n",
        "\n",
        "if jogador == computador:\n",
        "  print('Parabéns, você acertou!')\n",
        "else: \n",
        "  print('Você errou, eu venci!')\n",
        "  print('Eu pensei no número {} e você disse {}.'.format(computador, jogador))"
      ],
      "execution_count": null,
      "outputs": [
        {
          "output_type": "stream",
          "text": [
            "Vou pensar em um número entre 0 e 5...\n",
            "Tente adivinhar qual é o número...\n",
            "Qual o número você acha que eu pensei? 4\n",
            "Você errou, eu venci!\n",
            "Eu pensei no número 2 e você disse 4.\n"
          ],
          "name": "stdout"
        }
      ]
    },
    {
      "cell_type": "markdown",
      "metadata": {
        "id": "9hnx_L-WRStQ"
      },
      "source": [
        "029: radar eletrônico."
      ]
    },
    {
      "cell_type": "code",
      "metadata": {
        "colab": {
          "base_uri": "https://localhost:8080/"
        },
        "id": "caAa3goVRTs3",
        "outputId": "fafbd55a-6a9a-4b6d-a3bd-ff74e4764efa"
      },
      "source": [
        "velocidade = float(input('Qual é a velocidade atual do carro? '))\n",
        "\n",
        "ultrapassado = velocidade > 80\n",
        "\n",
        "if ultrapassado:\n",
        "  print('Você ultrapassou o limite de velocidade de 80km/h.')\n",
        "  print('Você deve pagar uma multa de R${:.2f}.'.format((velocidade - 80) * 7))\n",
        "  print('São R$7,00 de multa por cada km acima do limite.')\n",
        "  print('Tenha um bom dia e dirija com segurança!')\n",
        "else: \n",
        "  print('Tudo certo! Tenha um bom dia e dirija com segurança!')"
      ],
      "execution_count": null,
      "outputs": [
        {
          "output_type": "stream",
          "text": [
            "Qual é a velocidade atual do carro? 115\n",
            "Você ultrapassou o limite de velocidade de 80km/h.\n",
            "Você deve pagar uma multa de R$245.00.\n",
            "São R$7,00 de multa por cada km acima do limite.\n",
            "Tenha um bom dia e dirija com segurança!\n"
          ],
          "name": "stdout"
        }
      ]
    },
    {
      "cell_type": "code",
      "metadata": {
        "colab": {
          "base_uri": "https://localhost:8080/"
        },
        "id": "a7ILlErwYRNn",
        "outputId": "730d7cd1-f797-4671-a6ad-7d1e7e831498"
      },
      "source": [
        "velocidade = float(input('Qual é a velocidade atual do carro? '))\n",
        "\n",
        "ultrapassado = velocidade > 80\n",
        "multa = (velocidade - 80) * 7\n",
        "\n",
        "if ultrapassado:\n",
        "  print('Você ultrapassou o limite de velocidade de 80km/h.')\n",
        "  print('Você deve pagar uma multa de R${:.2f}.'.format(multa))\n",
        "  print('São R$7,00 de multa por cada km acima do limite.')\n",
        "  print('Tenha um bom dia e dirija com segurança!')\n",
        "else: \n",
        "  print('Tudo certo! Tenha um bom dia e dirija com segurança!')"
      ],
      "execution_count": null,
      "outputs": [
        {
          "output_type": "stream",
          "text": [
            "Qual é a velocidade atual do carro? 85\n",
            "Você ultrapassou o limite de velocidade de 80km/h.\n",
            "Você deve pagar uma multa de R$35.00.\n",
            "São R$7,00 de multa por cada km acima do limite.\n",
            "Tenha um bom dia e dirija com segurança!\n"
          ],
          "name": "stdout"
        }
      ]
    },
    {
      "cell_type": "markdown",
      "metadata": {
        "id": "c0ZE1iSjRUWX"
      },
      "source": [
        "030: par ou ímpar?"
      ]
    },
    {
      "cell_type": "code",
      "metadata": {
        "colab": {
          "base_uri": "https://localhost:8080/"
        },
        "id": "XAV7qZaCRVi7",
        "outputId": "368bf833-b642-4259-d783-942fe2ef3802"
      },
      "source": [
        "numero = int(input('Digite um número qualquer: '))\n",
        "\n",
        "if numero % 2 == 0:\n",
        "  print(f'O número {numero} é par.')\n",
        "else:\n",
        "  print(f'O número {numero} é ímpar.')"
      ],
      "execution_count": null,
      "outputs": [
        {
          "output_type": "stream",
          "text": [
            "Digite um número qualquer: 16\n",
            "O número 16 é par.\n"
          ],
          "name": "stdout"
        }
      ]
    }
  ]
}